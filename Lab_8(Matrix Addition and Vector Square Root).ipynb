{
 "cells": [
  {
   "cell_type": "code",
   "execution_count": null,
   "metadata": {
    "colab": {
     "base_uri": "https://localhost:8080/"
    },
    "id": "AaG8dBkEcDhc",
    "outputId": "6b7f7acb-48d5-4093-f80c-1f23e1fbb88f"
   },
   "outputs": [
    {
     "name": "stdout",
     "output_type": "stream",
     "text": [
      "Collecting virtualenv\n",
      "  Downloading virtualenv-20.24.7-py3-none-any.whl (3.8 MB)\n",
      "\u001b[2K     \u001b[90m━━━━━━━━━━━━━━━━━━━━━━━━━━━━━━━━━━━━━━━━\u001b[0m \u001b[32m3.8/3.8 MB\u001b[0m \u001b[31m13.6 MB/s\u001b[0m eta \u001b[36m0:00:00\u001b[0m\n",
      "\u001b[?25hCollecting distlib<1,>=0.3.7 (from virtualenv)\n",
      "  Downloading distlib-0.3.7-py2.py3-none-any.whl (468 kB)\n",
      "\u001b[2K     \u001b[90m━━━━━━━━━━━━━━━━━━━━━━━━━━━━━━━━━━━━━━━━\u001b[0m \u001b[32m468.9/468.9 kB\u001b[0m \u001b[31m18.3 MB/s\u001b[0m eta \u001b[36m0:00:00\u001b[0m\n",
      "\u001b[?25hRequirement already satisfied: filelock<4,>=3.12.2 in /usr/local/lib/python3.10/dist-packages (from virtualenv) (3.13.1)\n",
      "Requirement already satisfied: platformdirs<5,>=3.9.1 in /usr/local/lib/python3.10/dist-packages (from virtualenv) (4.0.0)\n",
      "Installing collected packages: distlib, virtualenv\n",
      "Successfully installed distlib-0.3.7 virtualenv-20.24.7\n"
     ]
    }
   ],
   "source": [
    "!pip install virtualenv"
   ]
  },
  {
   "cell_type": "code",
   "execution_count": null,
   "metadata": {
    "colab": {
     "base_uri": "https://localhost:8080/"
    },
    "id": "SxTys7mRcQJa",
    "outputId": "2be8e75a-385e-4283-ac07-c3d203a27481"
   },
   "outputs": [
    {
     "name": "stdout",
     "output_type": "stream",
     "text": [
      "created virtual environment CPython3.10.12.final.0-64 in 853ms\n",
      "  creator CPython3Posix(dest=/content/drive/MyDrive/cuda_env, clear=False, no_vcs_ignore=False, global=False)\n",
      "  seeder FromAppData(download=False, pip=bundle, setuptools=bundle, wheel=bundle, via=copy, app_data_dir=/root/.local/share/virtualenv)\n",
      "    added seed packages: pip==23.3.1, setuptools==68.2.2, wheel==0.41.3\n",
      "  activators BashActivator,CShellActivator,FishActivator,NushellActivator,PowerShellActivator,PythonActivator\n"
     ]
    }
   ],
   "source": [
    "!virtualenv /content/drive/MyDrive/cuda_env"
   ]
  },
  {
   "cell_type": "code",
   "execution_count": null,
   "metadata": {
    "id": "CKvg-2qMcl-j"
   },
   "outputs": [],
   "source": [
    "!source /content/drive/MyDrive/cuda_env/bin/activate;"
   ]
  },
  {
   "cell_type": "code",
   "execution_count": null,
   "metadata": {
    "colab": {
     "base_uri": "https://localhost:8080/"
    },
    "id": "3RDSIZz1c5Fh",
    "outputId": "525976d3-e39e-4a58-b068-02067e7af1f3"
   },
   "outputs": [
    {
     "name": "stdout",
     "output_type": "stream",
     "text": [
      "nvcc: NVIDIA (R) Cuda compiler driver\n",
      "Copyright (c) 2005-2022 NVIDIA Corporation\n",
      "Built on Wed_Sep_21_10:33:58_PDT_2022\n",
      "Cuda compilation tools, release 11.8, V11.8.89\n",
      "Build cuda_11.8.r11.8/compiler.31833905_0\n"
     ]
    }
   ],
   "source": [
    "\n",
    "!nvcc --version"
   ]
  },
  {
   "cell_type": "code",
   "execution_count": null,
   "metadata": {
    "colab": {
     "base_uri": "https://localhost:8080/"
    },
    "id": "hqAyKLBHc9-T",
    "outputId": "0e78b31d-0370-4002-dce5-63ef9d9ec58e"
   },
   "outputs": [
    {
     "name": "stdout",
     "output_type": "stream",
     "text": [
      "Fri Nov 24 05:14:17 2023       \n",
      "+-----------------------------------------------------------------------------+\n",
      "| NVIDIA-SMI 525.105.17   Driver Version: 525.105.17   CUDA Version: 12.0     |\n",
      "|-------------------------------+----------------------+----------------------+\n",
      "| GPU  Name        Persistence-M| Bus-Id        Disp.A | Volatile Uncorr. ECC |\n",
      "| Fan  Temp  Perf  Pwr:Usage/Cap|         Memory-Usage | GPU-Util  Compute M. |\n",
      "|                               |                      |               MIG M. |\n",
      "|===============================+======================+======================|\n",
      "|   0  Tesla T4            Off  | 00000000:00:04.0 Off |                    0 |\n",
      "| N/A   51C    P8    10W /  70W |      0MiB / 15360MiB |      0%      Default |\n",
      "|                               |                      |                  N/A |\n",
      "+-------------------------------+----------------------+----------------------+\n",
      "                                                                               \n",
      "+-----------------------------------------------------------------------------+\n",
      "| Processes:                                                                  |\n",
      "|  GPU   GI   CI        PID   Type   Process name                  GPU Memory |\n",
      "|        ID   ID                                                   Usage      |\n",
      "|=============================================================================|\n",
      "|  No running processes found                                                 |\n",
      "+-----------------------------------------------------------------------------+\n"
     ]
    }
   ],
   "source": [
    "!nvidia-smi"
   ]
  },
  {
   "cell_type": "code",
   "execution_count": null,
   "metadata": {
    "colab": {
     "base_uri": "https://localhost:8080/"
    },
    "id": "JLoTz0x6dOsH",
    "outputId": "d6083618-80f0-4247-ecb3-d49ed831ea57"
   },
   "outputs": [
    {
     "name": "stdout",
     "output_type": "stream",
     "text": [
      "Collecting git+https://github.com/andreinechaev/nvcc4jupyter.git\n",
      "  Cloning https://github.com/andreinechaev/nvcc4jupyter.git to /tmp/pip-req-build-_wjlftwu\n",
      "  Running command git clone --filter=blob:none --quiet https://github.com/andreinechaev/nvcc4jupyter.git /tmp/pip-req-build-_wjlftwu\n",
      "  Resolved https://github.com/andreinechaev/nvcc4jupyter.git to commit 0a71d56e5dce3ff1f0dd2c47c29367629262f527\n",
      "  Preparing metadata (setup.py) ... \u001b[?25l\u001b[?25hdone\n",
      "Building wheels for collected packages: NVCCPlugin\n",
      "  Building wheel for NVCCPlugin (setup.py) ... \u001b[?25l\u001b[?25hdone\n",
      "  Created wheel for NVCCPlugin: filename=NVCCPlugin-0.0.2-py3-none-any.whl size=4294 sha256=b2e8282f15b319d9dc6854e625914b74514bc31abf18e38689b3ae3c9187a1a3\n",
      "  Stored in directory: /tmp/pip-ephem-wheel-cache-ka17gksy/wheels/a8/b9/18/23f8ef71ceb0f63297dd1903aedd067e6243a68ea756d6feea\n",
      "Successfully built NVCCPlugin\n",
      "Installing collected packages: NVCCPlugin\n",
      "Successfully installed NVCCPlugin-0.0.2\n"
     ]
    }
   ],
   "source": [
    "!pip install git+https://github.com/andreinechaev/nvcc4jupyter.git"
   ]
  },
  {
   "cell_type": "code",
   "execution_count": null,
   "metadata": {
    "colab": {
     "base_uri": "https://localhost:8080/"
    },
    "id": "iyhj3f98dfvX",
    "outputId": "c4308ea8-0441-4ba9-92c2-6cc20f507de4"
   },
   "outputs": [
    {
     "name": "stdout",
     "output_type": "stream",
     "text": [
      "created output directory at /content/src\n",
      "Out bin /content/result.out\n"
     ]
    }
   ],
   "source": [
    "%load_ext nvcc_plugin"
   ]
  },
  {
   "cell_type": "code",
   "execution_count": null,
   "metadata": {
    "id": "tCPoFNzJxXuM"
   },
   "outputs": [],
   "source": []
  },
  {
   "cell_type": "markdown",
   "metadata": {
    "id": "f1gr-uGYxoW-"
   },
   "source": [
    "**Task1 (Vector Element Square Root)**"
   ]
  },
  {
   "cell_type": "code",
   "execution_count": null,
   "metadata": {
    "colab": {
     "base_uri": "https://localhost:8080/"
    },
    "id": "IEM3Cg96n6k9",
    "outputId": "f03f9207-e9c8-4ca1-928a-668bb4846c52"
   },
   "outputs": [
    {
     "name": "stdout",
     "output_type": "stream",
     "text": [
      "Real vector:\n",
      "10.000000 20.000000 30.000000 40.000000 50.000000 60.000000 70.000000 80.000000 90.000000 100.000000 \n",
      "Resultant vector:\n",
      "3.162278 4.472136 5.477226 6.324555 7.071068 7.745967 8.366600 8.944272 9.486833 10.000000 \n",
      "\n"
     ]
    }
   ],
   "source": [
    "%%cu\n",
    "\n",
    "#include <stdio.h>\n",
    "#include <stdlib.h>\n",
    "#include <cuda_runtime.h>\n",
    "#include<cmath>\n",
    "\n",
    "#define N 10\n",
    "\n",
    "// Kernel function to perform vector multiplication\n",
    "__global__ void vectorSqrt(float *a, float *result) {\n",
    "    int tid = threadIdx.x + blockIdx.x * blockDim.x;\n",
    "\n",
    "    if (tid < N) {\n",
    "        result[tid] = sqrt(a[tid]);\n",
    "    }\n",
    "}\n",
    "\n",
    "int main() {\n",
    "    float h_a[N], h_result[N];\n",
    "\n",
    "    // Device vectors\n",
    "    float *d_a, *d_result;\n",
    "\n",
    "    // Allocate memory on the device\n",
    "    cudaMalloc((void **)&d_a, N * sizeof(float));\n",
    "    cudaMalloc((void **)&d_result, N * sizeof(float));\n",
    "\n",
    "    // Initialize host vectors with random values\n",
    "    for (int i = 0; i < N; ++i) {\n",
    "        h_a[i] = float((i+1)*10);  // Adjust the range as needed\n",
    "        //printf(\"val = %f\\n\",h_a[i]);\n",
    "    }\n",
    "    //printf(\"\\n\");\n",
    "\n",
    "    printf(\"Real vector:\\n\");\n",
    "    for (int i = 0; i < N; ++i) {\n",
    "        printf(\"%f \", h_a[i]);\n",
    "    }\n",
    "    printf(\"\\n\");\n",
    "\n",
    "    // Copy host vectors to device\n",
    "    cudaMemcpy(d_a, h_a, N * sizeof(float), cudaMemcpyHostToDevice);\n",
    "\n",
    "    // Set up grid and block dimensions\n",
    "    dim3 blockDim(256);\n",
    "    dim3 gridDim((N + blockDim.x - 1) / blockDim.x);\n",
    "\n",
    "    // Launch kernel\n",
    "    vectorSqrt<<<gridDim, blockDim>>>(d_a, d_result);\n",
    "\n",
    "    // Copy result back to host\n",
    "    cudaMemcpy(h_result, d_result, N * sizeof(float), cudaMemcpyDeviceToHost);\n",
    "\n",
    "    // Clean up\n",
    "    cudaFree(d_a);\n",
    "    cudaFree(d_result);\n",
    "\n",
    "\n",
    "\n",
    "    // Display the result\n",
    "    printf(\"Resultant vector:\\n\");\n",
    "    for (int i = 0; i < N; ++i) {\n",
    "        printf(\"%f \", h_result[i]);\n",
    "    }\n",
    "    printf(\"\\n\");\n",
    "\n",
    "    return 0;\n",
    "}\n"
   ]
  },
  {
   "cell_type": "markdown",
   "metadata": {
    "id": "0DLh4-cKxacl"
   },
   "source": [
    "**Task2 Matrix Addition**"
   ]
  },
  {
   "cell_type": "code",
   "execution_count": null,
   "metadata": {
    "colab": {
     "base_uri": "https://localhost:8080/"
    },
    "id": "kroxLcr1fhQJ",
    "outputId": "422cd276-2263-43e3-d6d8-7152b4bee6ac"
   },
   "outputs": [
    {
     "name": "stdout",
     "output_type": "stream",
     "text": [
      "Matrix A:\n",
      "0 1 2 3 \n",
      "4 5 6 7 \n",
      "8 9 10 11 \n",
      "12 13 14 15 \n",
      "\n",
      "Matrix B:\n",
      "0 2 4 6 \n",
      "8 10 12 14 \n",
      "16 18 20 22 \n",
      "24 26 28 30 \n",
      "\n",
      "Resultant Matrix C:\n",
      "0 3 6 9 \n",
      "12 15 18 21 \n",
      "24 27 30 33 \n",
      "36 39 42 45 \n",
      "\n"
     ]
    }
   ],
   "source": [
    "%%cu\n",
    "\n",
    "#include <iostream>\n",
    "\n",
    "#include <cmath>\n",
    "\n",
    "#include <cuda_runtime.h>\n",
    "\n",
    "const int N = 4; // Size of the matrices (N x N)\n",
    "// CUDA kernel to add two matrices\n",
    "__global__ void matrixAdd(int * a, int * b, int * c, int n) {\n",
    "  int i = blockIdx.x * blockDim.x + threadIdx.x;\n",
    "  int j = blockIdx.y * blockDim.y + threadIdx.y;\n",
    "  if (i < n && j < n) {\n",
    "    int index = i * n + j;\n",
    "    c[index] = a[index] + b[index];\n",
    "  }\n",
    "}\n",
    "int main() {\n",
    "  int * h_a, * h_b, * h_c; // Host matrices\n",
    "  int * d_a, * d_b, * d_c; // Device matrices\n",
    "  // Allocate memory on the host\n",
    "  h_a = new int[N * N];\n",
    "  h_b = new int[N * N];\n",
    "  h_c = new int[N * N];\n",
    "  // Initialize matrices on the host\n",
    "  for (int i = 0; i < N * N; ++i) {\n",
    "    h_a[i] = i;\n",
    "    h_b[i] = 2 * i;\n",
    "  }\n",
    "  // Allocate memory on the device\n",
    "  cudaMalloc((void ** ) & d_a, N * N * sizeof(int));\n",
    "  cudaMalloc((void ** ) & d_b, N * N * sizeof(int));\n",
    "  cudaMalloc((void ** ) & d_c, N * N * sizeof(int));\n",
    "  // Copy matrices from host to device\n",
    "  cudaMemcpy(d_a, h_a, N * N * sizeof(int), cudaMemcpyHostToDevice);\n",
    "  cudaMemcpy(d_b, h_b, N * N * sizeof(int), cudaMemcpyHostToDevice);\n",
    "  // Define block and grid sizes\n",
    "  dim3 blockSize(16, 16);\n",
    "  dim3 gridSize(ceil(static_cast < float > (N) / blockSize.x), ceil(static_cast < float > (N) / blockSize.y));\n",
    "  // Launch the kernel\n",
    "  matrixAdd << < gridSize, blockSize >>> (d_a, d_b, d_c, N);\n",
    "  // Copy the result from device to host\n",
    "  cudaMemcpy(h_c, d_c, N * N * sizeof(int), cudaMemcpyDeviceToHost);\n",
    "\n",
    "  // Print the result\n",
    "  std::cout << \"Matrix A:\\n\";\n",
    "  for (int i = 0; i < N; ++i) {\n",
    "    for (int j = 0; j < N; ++j) {\n",
    "      std::cout << h_a[i * N + j] << \" \";\n",
    "    }\n",
    "    std::cout << \"\\n\";\n",
    "  }\n",
    "  std::cout << \"\\nMatrix B:\\n\";\n",
    "  for (int i = 0; i < N; ++i) {\n",
    "    for (int j = 0; j < N; ++j) {\n",
    "      std::cout << h_b[i * N + j] << \" \";\n",
    "    }\n",
    "    std::cout << \"\\n\";\n",
    "  }\n",
    "  std::cout << \"\\nResultant Matrix C:\\n\";\n",
    "  for (int i = 0; i < N; ++i) {\n",
    "    for (int j = 0; j < N; ++j) {\n",
    "      std::cout << h_c[i * N + j] << \" \";\n",
    "    }\n",
    "    std::cout << \"\\n\";\n",
    "  }\n",
    "  // Free memory on the device\n",
    "  cudaFree(d_a);\n",
    "  cudaFree(d_b);\n",
    "  cudaFree(d_c);\n",
    "  // Free memory on the host\n",
    "  delete[] h_a;\n",
    "  delete[] h_b;\n",
    "  delete[] h_c;\n",
    "  return 0;\n",
    "}"
   ]
  }
 ],
 "metadata": {
  "accelerator": "GPU",
  "colab": {
   "gpuType": "T4",
   "provenance": []
  },
  "kernelspec": {
   "display_name": "Python 3 (ipykernel)",
   "language": "python",
   "name": "python3"
  },
  "language_info": {
   "codemirror_mode": {
    "name": "ipython",
    "version": 3
   },
   "file_extension": ".py",
   "mimetype": "text/x-python",
   "name": "python",
   "nbconvert_exporter": "python",
   "pygments_lexer": "ipython3",
   "version": "3.11.3"
  }
 },
 "nbformat": 4,
 "nbformat_minor": 1
}
